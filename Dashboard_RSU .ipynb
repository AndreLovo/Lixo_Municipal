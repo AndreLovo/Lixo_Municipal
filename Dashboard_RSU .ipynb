{
 "cells": [
  {
   "cell_type": "code",
   "execution_count": 1,
   "id": "3ae2d79f",
   "metadata": {},
   "outputs": [],
   "source": [
    "# Importando as bibliotecas\n",
    "import plotly.graph_objects as go\n",
    "import dash\n",
    "import dash_core_components as dcc\n",
    "import dash_html_components as html\n"
   ]
  },
  {
   "cell_type": "code",
   "execution_count": 2,
   "id": "4286d2dc",
   "metadata": {},
   "outputs": [],
   "source": [
    "app= dash.Dash()"
   ]
  },
  {
   "cell_type": "code",
   "execution_count": 3,
   "id": "244be5e1",
   "metadata": {},
   "outputs": [
    {
     "ename": "SyntaxError",
     "evalue": "unexpected EOF while parsing (Temp/ipykernel_14952/417472545.py, line 47)",
     "output_type": "error",
     "traceback": [
      "\u001b[1;36m  File \u001b[1;32m\"C:\\Users\\ANDRLO~1\\AppData\\Local\\Temp/ipykernel_14952/417472545.py\"\u001b[1;36m, line \u001b[1;32m47\u001b[0m\n\u001b[1;33m    \u001b[0m\n\u001b[1;37m    ^\u001b[0m\n\u001b[1;31mSyntaxError\u001b[0m\u001b[1;31m:\u001b[0m unexpected EOF while parsing\n"
     ]
    }
   ],
   "source": [
    "# assume you have a \"long-form\" data frame\n",
    "# see https://plotly.com/python/px-arguments/ for more options\n",
    "df = pd.DataFrame({\n",
    "    \"Fruit\": [\"Apples\", \"Oranges\", \"Bananas\", \"Apples\", \"Oranges\", \"Bananas\"],\n",
    "    \"Amount\": [4, 1, 2, 2, 4, 5],\n",
    "    \"City\": [\"SF\", \"SF\", \"SF\", \"Montreal\", \"Montreal\", \"Montreal\"]\n",
    "})\n",
    "\n",
    "fig = px.bar(df, x=\"Fruit\", y=\"Amount\", color=\"City\", barmode=\"group\")\n",
    "\n",
    "# Definindo os componentes HTML - Comando para criar uma págian no servidor\n",
    "app.layout = html.Div(children=[html.H1(\"Dashboard RSU\", style={\n",
    "                                                      \"color\": \"red\",\n",
    "                                                      \"text-align\": \"center\",\n",
    "                                                      \"font-size\": \"40px\",\n",
    "                                                      \"border-style\": \"solid\"\n",
    "                                                        }),\n",
    "                       html.Div(\"Análise de Dados do Manejo de Resíduos Sólidos Urbanos -2019\", style={\n",
    "                                                      \"color\": \"blue\",\n",
    "                                                      \"text-align\": \"center\",\n",
    "                                                      \"font-size\": \"30px\",\"border-style\": \"solid\"\n",
    "                                                        }),\n",
    "                       html.Div(\"Quantidade de Municípios\", style={\n",
    "                                                      \"color\": \"blue\",\n",
    "                                                      \"text-align\": \"center\",\n",
    "                                                      \"font-size\": \"30px\",\n",
    "                                                      \"border-style\": \"solid\",\n",
    "                                                      \"inline-block\"\"width\":\"20%\"\n",
    "                                                        }),\n",
    "                            \n",
    "        \n",
    "                       html.Div(\"Tipos de Acomodação\", style={\n",
    "                                                      \"color\": \"blue\",\n",
    "                                                      \"text-align\": \"center\",\n",
    "                                                      \"font-size\": \"30px\",\n",
    "                                                      \"border-style\": \"solid\",\n",
    "                                                      \"inline-block\"\"width\":\"30%\"\n",
    "                                                        }),\n",
    "            \n",
    "                       html.Div(\"Tipos de Licença Ambiental\", style={\n",
    "                                                      \"color\": \"blue\",\n",
    "                                                      \"text-align\": \"center\",\n",
    "                                                      \"font-size\": \"30px\",\n",
    "                                                      \"border-style\": \"solid\",\n",
    "                                                      \"inline-block\"\"width\":\"50%\"\n",
    "                                                        })\n",
    "                 "
   ]
  },
  {
   "cell_type": "code",
   "execution_count": null,
   "id": "d021aae5",
   "metadata": {},
   "outputs": [],
   "source": [
    "if __name__=='__main__':\n",
    "    app.run_server()"
   ]
  }
 ],
 "metadata": {
  "kernelspec": {
   "display_name": "Python 3 (ipykernel)",
   "language": "python",
   "name": "python3"
  },
  "language_info": {
   "codemirror_mode": {
    "name": "ipython",
    "version": 3
   },
   "file_extension": ".py",
   "mimetype": "text/x-python",
   "name": "python",
   "nbconvert_exporter": "python",
   "pygments_lexer": "ipython3",
   "version": "3.8.10"
  }
 },
 "nbformat": 4,
 "nbformat_minor": 5
}
